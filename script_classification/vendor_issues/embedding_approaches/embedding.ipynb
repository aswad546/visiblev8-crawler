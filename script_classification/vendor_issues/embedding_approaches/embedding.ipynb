{
 "cells": [
  {
   "cell_type": "code",
   "execution_count": null,
   "id": "0af2a25e",
   "metadata": {},
   "outputs": [
    {
     "name": "stdout",
     "output_type": "stream",
     "text": [
      "Installing psycopg2-binary...\n",
      "Requirement already satisfied: psycopg2-binary in /home/a8tariq/.conda/envs/vv8/lib/python3.12/site-packages (2.9.10)\n",
      "Installing umap-learn...\n",
      "Collecting umap-learn\n",
      "  Downloading umap_learn-0.5.7-py3-none-any.whl.metadata (21 kB)\n",
      "Requirement already satisfied: numpy>=1.17 in /home/a8tariq/.conda/envs/vv8/lib/python3.12/site-packages (from umap-learn) (2.1.3)\n",
      "Requirement already satisfied: scipy>=1.3.1 in /home/a8tariq/.conda/envs/vv8/lib/python3.12/site-packages (from umap-learn) (1.15.2)\n",
      "Requirement already satisfied: scikit-learn>=0.22 in /home/a8tariq/.conda/envs/vv8/lib/python3.12/site-packages (from umap-learn) (1.6.1)\n",
      "Requirement already satisfied: numba>=0.51.2 in /home/a8tariq/.conda/envs/vv8/lib/python3.12/site-packages (from umap-learn) (0.61.0)\n",
      "Collecting pynndescent>=0.5 (from umap-learn)\n",
      "  Downloading pynndescent-0.5.13-py3-none-any.whl.metadata (6.8 kB)\n",
      "Requirement already satisfied: tqdm in /home/a8tariq/.conda/envs/vv8/lib/python3.12/site-packages (from umap-learn) (4.67.1)\n",
      "Requirement already satisfied: llvmlite<0.45,>=0.44.0dev0 in /home/a8tariq/.conda/envs/vv8/lib/python3.12/site-packages (from numba>=0.51.2->umap-learn) (0.44.0)\n",
      "Requirement already satisfied: joblib>=0.11 in /home/a8tariq/.conda/envs/vv8/lib/python3.12/site-packages (from pynndescent>=0.5->umap-learn) (1.5.1)\n",
      "Requirement already satisfied: threadpoolctl>=3.1.0 in /home/a8tariq/.conda/envs/vv8/lib/python3.12/site-packages (from scikit-learn>=0.22->umap-learn) (3.6.0)\n",
      "Downloading umap_learn-0.5.7-py3-none-any.whl (88 kB)\n",
      "Downloading pynndescent-0.5.13-py3-none-any.whl (56 kB)\n",
      "Installing collected packages: pynndescent, umap-learn\n",
      "Successfully installed pynndescent-0.5.13 umap-learn-0.5.7\n",
      "Installing scikit-learn...\n",
      "Requirement already satisfied: scikit-learn in /home/a8tariq/.conda/envs/vv8/lib/python3.12/site-packages (1.6.1)\n",
      "Requirement already satisfied: numpy>=1.19.5 in /home/a8tariq/.conda/envs/vv8/lib/python3.12/site-packages (from scikit-learn) (2.1.3)\n",
      "Requirement already satisfied: scipy>=1.6.0 in /home/a8tariq/.conda/envs/vv8/lib/python3.12/site-packages (from scikit-learn) (1.15.2)\n",
      "Requirement already satisfied: joblib>=1.2.0 in /home/a8tariq/.conda/envs/vv8/lib/python3.12/site-packages (from scikit-learn) (1.5.1)\n",
      "Requirement already satisfied: threadpoolctl>=3.1.0 in /home/a8tariq/.conda/envs/vv8/lib/python3.12/site-packages (from scikit-learn) (3.6.0)\n"
     ]
    },
    {
     "name": "stderr",
     "output_type": "stream",
     "text": [
      "/home/a8tariq/.conda/envs/vv8/lib/python3.12/site-packages/tqdm/auto.py:21: TqdmWarning: IProgress not found. Please update jupyter and ipywidgets. See https://ipywidgets.readthedocs.io/en/stable/user_install.html\n",
      "  from .autonotebook import tqdm as notebook_tqdm\n"
     ]
    },
    {
     "name": "stdout",
     "output_type": "stream",
     "text": [
      "✅ All dependencies installed and imported successfully!\n"
     ]
    }
   ],
   "source": [
    "import sys\n",
    "import subprocess\n",
    "\n",
    "def install_packages():\n",
    "    packages = [\n",
    "        'psycopg2-binary',  # PostgreSQL connector\n",
    "        'umap-learn',       # UMAP for embeddings\n",
    "        'scikit-learn',     # ML utilities\n",
    "        'pandas',           # Data manipulation\n",
    "        'numpy',            # Numerical operations\n",
    "        'matplotlib',       # Plotting\n",
    "        'seaborn'          # Enhanced plotting\n",
    "    ]\n",
    "    \n",
    "    for package in packages:\n",
    "        try:\n",
    "            __import__(package.replace('-', '_'))\n",
    "        except ImportError:\n",
    "            print(f\"Installing {package}...\")\n",
    "            subprocess.check_call([sys.executable, \"-m\", \"pip\", \"install\", package])\n",
    "\n",
    "# install_packages()\n",
    "\n",
    "# Import all necessary libraries\n",
    "import numpy as np\n",
    "import pandas as pd\n",
    "import psycopg2\n",
    "import json\n",
    "from sklearn.preprocessing import StandardScaler, RobustScaler\n",
    "from sklearn.model_selection import train_test_split\n",
    "from sklearn.metrics import classification_report, confusion_matrix, roc_auc_score\n",
    "from sklearn.metrics.pairwise import cosine_similarity, euclidean_distances\n",
    "from sklearn.ensemble import IsolationForest\n",
    "from sklearn.decomposition import PCA\n",
    "import umap\n",
    "from urllib.parse import urlparse\n",
    "import warnings\n",
    "import matplotlib.pyplot as plt\n",
    "import seaborn as sns\n",
    "\n",
    "warnings.filterwarnings('ignore')\n",
    "print(\"✅ All dependencies installed and imported successfully!\")\n"
   ]
  },
  {
   "cell_type": "code",
   "execution_count": 2,
   "id": "62717cb0",
   "metadata": {},
   "outputs": [
    {
     "name": "stdout",
     "output_type": "stream",
     "text": [
      "✅ Successfully connected to database!\n",
      "Loading data from database...\n",
      "✅ Loaded 2229 records from database\n",
      "Columns: ['script_id', 'script_url', 'code', 'max_api_aggregation_score', 'behavioral_api_agg_count', 'fp_api_agg_count', 'max_aggregated_apis', 'max_behavioral_api_aggregation_score', 'aggregated_behavioral_apis', 'max_fingerprinting_api_aggregation_score', 'aggregated_fingerprinting_apis', 'attached_listeners', 'fingerprinting_source_apis', 'behavioral_source_apis', 'behavioral_source_api_count', 'fingerprinting_source_api_count', 'behavioral_apis_access_count', 'fingerprinting_api_access_count', 'graph_construction_failure', 'dataflow_to_sink', 'apis_going_to_sink', 'submission_url', 'label', 'vendor']\n",
      "\n",
      "Dataset shape: (2229, 24)\n",
      "Sample columns: ['script_id', 'script_url', 'code', 'max_api_aggregation_score', 'behavioral_api_agg_count', 'fp_api_agg_count', 'max_aggregated_apis', 'max_behavioral_api_aggregation_score', 'aggregated_behavioral_apis', 'max_fingerprinting_api_aggregation_score']\n",
      "\n",
      "Label distribution:\n",
      "  Negative (0): 244\n",
      "  Positive (1): 232\n"
     ]
    }
   ],
   "source": [
    "def connect_to_database():\n",
    "    \"\"\"Connect to PostgreSQL database\"\"\"\n",
    "    try:\n",
    "        conn = psycopg2.connect(\n",
    "            host=\"localhost\",\n",
    "            database=\"vv8_backend\",\n",
    "            user=\"vv8\",\n",
    "            password=\"vv8\",\n",
    "            port=5434\n",
    "        )\n",
    "        print(\"✅ Successfully connected to database!\")\n",
    "        return conn\n",
    "    except Exception as e:\n",
    "        print(f\"❌ Error connecting to database: {e}\")\n",
    "        return None\n",
    "\n",
    "def load_data_from_db():\n",
    "    \"\"\"Load data from PostgreSQL database\"\"\"\n",
    "    conn = connect_to_database()\n",
    "    if conn is None:\n",
    "        return None\n",
    "    \n",
    "    try:\n",
    "        # Query to get all data from the table\n",
    "        query = \"SELECT * FROM multicore_static_info_known_companies;\"\n",
    "        \n",
    "        print(\"Loading data from database...\")\n",
    "        df = pd.read_sql_query(query, conn)\n",
    "        \n",
    "        print(f\"✅ Loaded {len(df)} records from database\")\n",
    "        print(f\"Columns: {list(df.columns)}\")\n",
    "        \n",
    "        conn.close()\n",
    "        return df\n",
    "        \n",
    "    except Exception as e:\n",
    "        print(f\"❌ Error loading data: {e}\")\n",
    "        if conn:\n",
    "            conn.close()\n",
    "        return None\n",
    "\n",
    "# Load the data\n",
    "df_raw = load_data_from_db()\n",
    "\n",
    "if df_raw is not None:\n",
    "    print(f\"\\nDataset shape: {df_raw.shape}\")\n",
    "    print(f\"Sample columns: {df_raw.columns.tolist()[:10]}\")\n",
    "    \n",
    "    # Show basic statistics\n",
    "    if 'label' in df_raw.columns:\n",
    "        label_counts = df_raw['label'].value_counts()\n",
    "        print(f\"\\nLabel distribution:\")\n",
    "        print(f\"  Negative (0): {label_counts.get(0, 0)}\")\n",
    "        print(f\"  Positive (1): {label_counts.get(1, 0)}\")\n"
   ]
  }
 ],
 "metadata": {
  "kernelspec": {
   "display_name": "vv8",
   "language": "python",
   "name": "python3"
  },
  "language_info": {
   "codemirror_mode": {
    "name": "ipython",
    "version": 3
   },
   "file_extension": ".py",
   "mimetype": "text/x-python",
   "name": "python",
   "nbconvert_exporter": "python",
   "pygments_lexer": "ipython3",
   "version": "3.12.9"
  }
 },
 "nbformat": 4,
 "nbformat_minor": 5
}
